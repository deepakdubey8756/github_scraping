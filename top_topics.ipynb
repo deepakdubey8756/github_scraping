{
 "cells": [
  {
   "cell_type": "code",
   "execution_count": 1,
   "id": "95fa7a2a",
   "metadata": {},
   "outputs": [],
   "source": [
    "!pip3 install requests --upgrade --quiet"
   ]
  },
  {
   "cell_type": "code",
   "execution_count": 2,
   "id": "40fdb349",
   "metadata": {},
   "outputs": [],
   "source": [
    "import requests\n",
    "from bs4 import BeautifulSoup\n"
   ]
  },
  {
   "cell_type": "code",
   "execution_count": 6,
   "id": "d6753dbf",
   "metadata": {},
   "outputs": [],
   "source": [
    "html_doc = ''\n",
    "with open('topics.html', 'r') as f:\n",
    "    html_doc = f.read()\n",
    "\n",
    "soup = BeautifulSoup(html_doc, 'html.parser')"
   ]
  },
  {
   "cell_type": "code",
   "execution_count": 7,
   "id": "e44b0181",
   "metadata": {},
   "outputs": [],
   "source": [
    "def extract_topics(html_docs):\n",
    "    topic_class = \"f3 lh-condensed mb-0 mt-1 Link--primary\"\n",
    "    topic_lists = soup.find_all('p', topic_class)\n",
    "    topic_list = []\n",
    "    for topic in topic_lists:\n",
    "        topic_list.append(topic.text) \n",
    "    return topic_list"
   ]
  },
  {
   "cell_type": "code",
   "execution_count": 8,
   "id": "0765f10a",
   "metadata": {},
   "outputs": [],
   "source": [
    "topic_lists = extract_topics(html_doc)"
   ]
  },
  {
   "cell_type": "code",
   "execution_count": 9,
   "id": "5453476e",
   "metadata": {},
   "outputs": [
    {
     "data": {
      "text/plain": [
       "180"
      ]
     },
     "execution_count": 9,
     "metadata": {},
     "output_type": "execute_result"
    }
   ],
   "source": [
    "len(topic_lists)"
   ]
  },
  {
   "cell_type": "code",
   "execution_count": 20,
   "id": "a38a387e",
   "metadata": {},
   "outputs": [],
   "source": [
    "def extract_description(html_docs):\n",
    "    desc_class = \"f5 color-fg-muted mb-0 mt-1\"\n",
    "    desc_lists = soup.find_all('p', desc_class)\n",
    "    desc_list = []\n",
    "    for desc in desc_lists:\n",
    "        desc_list.append(desc.text.strip())\n",
    "    return desc_list"
   ]
  },
  {
   "cell_type": "code",
   "execution_count": 22,
   "id": "e8c21a42",
   "metadata": {},
   "outputs": [],
   "source": [
    "desc_lists = extract_description(html_doc)\n",
    "# desc_lists"
   ]
  },
  {
   "cell_type": "code",
   "execution_count": 23,
   "id": "0a50aa3c",
   "metadata": {},
   "outputs": [
    {
     "data": {
      "text/plain": [
       "180"
      ]
     },
     "execution_count": 23,
     "metadata": {},
     "output_type": "execute_result"
    }
   ],
   "source": [
    "#let's convert everything into pandas dataframe\n",
    "import pandas as pd\n",
    "len(desc_lists)"
   ]
  },
  {
   "cell_type": "code",
   "execution_count": 24,
   "id": "355dfd41",
   "metadata": {},
   "outputs": [],
   "source": [
    "myDict = {\"topic\": topic_lists, \"description\": desc_lists}"
   ]
  },
  {
   "cell_type": "code",
   "execution_count": 26,
   "id": "16ff36ab",
   "metadata": {},
   "outputs": [
    {
     "data": {
      "text/html": [
       "<div>\n",
       "<style scoped>\n",
       "    .dataframe tbody tr th:only-of-type {\n",
       "        vertical-align: middle;\n",
       "    }\n",
       "\n",
       "    .dataframe tbody tr th {\n",
       "        vertical-align: top;\n",
       "    }\n",
       "\n",
       "    .dataframe thead th {\n",
       "        text-align: right;\n",
       "    }\n",
       "</style>\n",
       "<table border=\"1\" class=\"dataframe\">\n",
       "  <thead>\n",
       "    <tr style=\"text-align: right;\">\n",
       "      <th></th>\n",
       "      <th>topic</th>\n",
       "      <th>description</th>\n",
       "    </tr>\n",
       "  </thead>\n",
       "  <tbody>\n",
       "    <tr>\n",
       "      <th>0</th>\n",
       "      <td>3D</td>\n",
       "      <td>3D modeling is the process of virtually develo...</td>\n",
       "    </tr>\n",
       "    <tr>\n",
       "      <th>1</th>\n",
       "      <td>Ajax</td>\n",
       "      <td>Ajax is a technique for creating interactive w...</td>\n",
       "    </tr>\n",
       "    <tr>\n",
       "      <th>2</th>\n",
       "      <td>Algorithm</td>\n",
       "      <td>Algorithms are self-contained sequences that c...</td>\n",
       "    </tr>\n",
       "    <tr>\n",
       "      <th>3</th>\n",
       "      <td>Amp</td>\n",
       "      <td>Amp is a non-blocking concurrency library for ...</td>\n",
       "    </tr>\n",
       "    <tr>\n",
       "      <th>4</th>\n",
       "      <td>Android</td>\n",
       "      <td>Android is an operating system built by Google...</td>\n",
       "    </tr>\n",
       "    <tr>\n",
       "      <th>...</th>\n",
       "      <td>...</td>\n",
       "      <td>...</td>\n",
       "    </tr>\n",
       "    <tr>\n",
       "      <th>175</th>\n",
       "      <td>Windows</td>\n",
       "      <td>Windows is Microsoft's GUI-based operating sys...</td>\n",
       "    </tr>\n",
       "    <tr>\n",
       "      <th>176</th>\n",
       "      <td>WordPlate</td>\n",
       "      <td>WordPlate is a modern WordPress stack which si...</td>\n",
       "    </tr>\n",
       "    <tr>\n",
       "      <th>177</th>\n",
       "      <td>WordPress</td>\n",
       "      <td>WordPress is a popular content management syst...</td>\n",
       "    </tr>\n",
       "    <tr>\n",
       "      <th>178</th>\n",
       "      <td>Xamarin</td>\n",
       "      <td>Xamarin is a platform for developing iOS and A...</td>\n",
       "    </tr>\n",
       "    <tr>\n",
       "      <th>179</th>\n",
       "      <td>XML</td>\n",
       "      <td>XML is subset of SGML (Standard Generalized Ma...</td>\n",
       "    </tr>\n",
       "  </tbody>\n",
       "</table>\n",
       "<p>180 rows × 2 columns</p>\n",
       "</div>"
      ],
      "text/plain": [
       "         topic                                        description\n",
       "0           3D  3D modeling is the process of virtually develo...\n",
       "1         Ajax  Ajax is a technique for creating interactive w...\n",
       "2    Algorithm  Algorithms are self-contained sequences that c...\n",
       "3          Amp  Amp is a non-blocking concurrency library for ...\n",
       "4      Android  Android is an operating system built by Google...\n",
       "..         ...                                                ...\n",
       "175    Windows  Windows is Microsoft's GUI-based operating sys...\n",
       "176  WordPlate  WordPlate is a modern WordPress stack which si...\n",
       "177  WordPress  WordPress is a popular content management syst...\n",
       "178    Xamarin  Xamarin is a platform for developing iOS and A...\n",
       "179        XML  XML is subset of SGML (Standard Generalized Ma...\n",
       "\n",
       "[180 rows x 2 columns]"
      ]
     },
     "execution_count": 26,
     "metadata": {},
     "output_type": "execute_result"
    }
   ],
   "source": [
    "df = pd.DataFrame(myDict)\n",
    "df"
   ]
  },
  {
   "cell_type": "code",
   "execution_count": 28,
   "id": "e19f8553",
   "metadata": {},
   "outputs": [],
   "source": [
    "df.to_csv(\"topics.csv\")"
   ]
  },
  {
   "cell_type": "code",
   "execution_count": 29,
   "id": "7a923cdb",
   "metadata": {},
   "outputs": [
    {
     "ename": "NameError",
     "evalue": "name 'DataFrame' is not defined",
     "output_type": "error",
     "traceback": [
      "\u001b[0;31m---------------------------------------------------------------------------\u001b[0m",
      "\u001b[0;31mNameError\u001b[0m                                 Traceback (most recent call last)",
      "Cell \u001b[0;32mIn [29], line 1\u001b[0m\n\u001b[0;32m----> 1\u001b[0m df2 \u001b[38;5;241m=\u001b[39m \u001b[43mDataFrame\u001b[49m(topic_list, column\u001b[38;5;241m=\u001b[39m[\u001b[38;5;124m\"\u001b[39m\u001b[38;5;124mtopic\u001b[39m\u001b[38;5;124m\"\u001b[39m])\n",
      "\u001b[0;31mNameError\u001b[0m: name 'DataFrame' is not defined"
     ]
    }
   ],
   "source": [
    "df2 = DataFrame(topic_list, column=[\"topic\"])"
   ]
  },
  {
   "cell_type": "code",
   "execution_count": null,
   "id": "fb82504d",
   "metadata": {},
   "outputs": [],
   "source": []
  }
 ],
 "metadata": {
  "kernelspec": {
   "display_name": "Python 3 (ipykernel)",
   "language": "python",
   "name": "python3"
  },
  "language_info": {
   "codemirror_mode": {
    "name": "ipython",
    "version": 3
   },
   "file_extension": ".py",
   "mimetype": "text/x-python",
   "name": "python",
   "nbconvert_exporter": "python",
   "pygments_lexer": "ipython3",
   "version": "3.8.10"
  }
 },
 "nbformat": 4,
 "nbformat_minor": 5
}
